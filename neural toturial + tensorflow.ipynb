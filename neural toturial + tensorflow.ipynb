{
 "cells": [
  {
   "cell_type": "code",
   "execution_count": null,
   "id": "b025e71d",
   "metadata": {},
   "outputs": [],
   "source": [
    "import tensorflow as tf\n",
    "from tensorflow import keras \n",
    "import numpy as np\n",
    "import matplotlib.pyplot as plt\n",
    "#import cv2 as cv "
   ]
  },
  {
   "cell_type": "markdown",
   "id": "f8b36ff2",
   "metadata": {},
   "source": [
    "**Preprocessing and splitting** "
   ]
  },
  {
   "cell_type": "code",
   "execution_count": 9,
   "id": "0d8ed6dd",
   "metadata": {},
   "outputs": [],
   "source": [
    "#try to load the data \n",
    "data  = keras.datasets.mnist\n",
    "# training section       #testing section\n",
    "(x_train , y_train) , (x_test, y_test) = data.load_data()"
   ]
  },
  {
   "cell_type": "code",
   "execution_count": 10,
   "id": "63210326",
   "metadata": {},
   "outputs": [
    {
     "name": "stdout",
     "output_type": "stream",
     "text": [
      "the x_train shape , y_train shape :  ((60000, 28, 28), (60000,))\n"
     ]
    }
   ],
   "source": [
    "print (f'the x_train shape , y_train shape :  {x_train.shape ,y_train.shape}')"
   ]
  },
  {
   "cell_type": "markdown",
   "id": "0889a27e",
   "metadata": {},
   "source": [
    "**Normalizing pixles**"
   ]
  },
  {
   "cell_type": "code",
   "execution_count": 11,
   "id": "31c45f5f",
   "metadata": {},
   "outputs": [],
   "source": [
    "#Normalize the data from 0->255 into 0->1\n",
    "x_train  = x_train/255.0 #do not forget to make it float \n",
    "x_test = x_test/255.0"
   ]
  },
  {
   "cell_type": "code",
   "execution_count": 25,
   "id": "eab22e04",
   "metadata": {},
   "outputs": [
    {
     "data": {
      "text/plain": [
       "\"\\nimport cv2\\nfor i in range(6):\\n    cv2.imshow(f'Image {i}', x_train[i])  # Opens 6 separate windows\\n    cv2.waitKey(0)  # Press any key to close each window\\ncv2.destroyAllWindows()\""
      ]
     },
     "execution_count": 25,
     "metadata": {},
     "output_type": "execute_result"
    },
    {
     "data": {
      "image/png": "[encoded data removed]",
      "text/plain": [
       "<Figure size 640x480 with 6 Axes>"
      ]
     },
     "metadata": {},
     "output_type": "display_data"
    }
   ],
   "source": [
    "for i in range (6):\n",
    "  plt.subplot(2 , 3 , i+1)\n",
    "  plt.imshow(x_train[i] ,cmap='grey')\n",
    "#plt.show() can be put or removed only in jupyter but in python script it is a must \n",
    "\n",
    "#why can't we use open cv ? cv2.imshow() ? it will shows the result one after another \n",
    "#and w a wait key between images so it will be like this and there is no a subplots in openCV\n",
    "'''\n",
    "import cv2\n",
    "for i in range(6):\n",
    "    cv2.imshow(f'Image {i}', x_train[i])  # Opens 6 separate windows\n",
    "    cv2.waitKey(0)  # Press any key to close each window\n",
    "cv2.destroyAllWindows()'''"
   ]
  },
  {
   "cell_type": "markdown",
   "id": "3b4dd581",
   "metadata": {},
   "source": [
    "**Model**"
   ]
  },
  {
   "cell_type": "code",
   "execution_count": 31,
   "id": "91a13551",
   "metadata": {},
   "outputs": [
    {
     "name": "stderr",
     "output_type": "stream",
     "text": [
      "c:\\Users\\moham\\AppData\\Local\\Programs\\Python\\Python312\\Lib\\site-packages\\keras\\src\\layers\\reshaping\\flatten.py:37: UserWarning: Do not pass an `input_shape`/`input_dim` argument to a layer. When using Sequential models, prefer using an `Input(shape)` object as the first layer in the model instead.\n",
      "  super().__init__(**kwargs)\n"
     ]
    },
    {
     "data": {
      "text/html": [
       "<pre style=\"white-space:pre;overflow-x:auto;line-height:normal;font-family:Menlo,'DejaVu Sans Mono',consolas,'Courier New',monospace\"><span style=\"font-weight: bold\">Model: \"sequential_1\"</span>\n",
       "</pre>\n"
      ],
      "text/plain": [
       "\u001b[1mModel: \"sequential_1\"\u001b[0m\n"
      ]
     },
     "metadata": {},
     "output_type": "display_data"
    },
    {
     "data": {
      "text/html": [
       "<pre style=\"white-space:pre;overflow-x:auto;line-height:normal;font-family:Menlo,'DejaVu Sans Mono',consolas,'Courier New',monospace\">┏━━━━━━━━━━━━━━━━━━━━━━━━━━━━━━━━━┳━━━━━━━━━━━━━━━━━━━━━━━━┳━━━━━━━━━━━━━━━┓\n",
       "┃<span style=\"font-weight: bold\"> Layer (type)                    </span>┃<span style=\"font-weight: bold\"> Output Shape           </span>┃<span style=\"font-weight: bold\">       Param # </span>┃\n",
       "┡━━━━━━━━━━━━━━━━━━━━━━━━━━━━━━━━━╇━━━━━━━━━━━━━━━━━━━━━━━━╇━━━━━━━━━━━━━━━┩\n",
       "│ flatten_2 (<span style=\"color: #0087ff; text-decoration-color: #0087ff\">Flatten</span>)             │ (<span style=\"color: #00d7ff; text-decoration-color: #00d7ff\">None</span>, <span style=\"color: #00af00; text-decoration-color: #00af00\">784</span>)            │             <span style=\"color: #00af00; text-decoration-color: #00af00\">0</span> │\n",
       "├─────────────────────────────────┼────────────────────────┼───────────────┤\n",
       "│ dense_2 (<span style=\"color: #0087ff; text-decoration-color: #0087ff\">Dense</span>)                 │ (<span style=\"color: #00d7ff; text-decoration-color: #00d7ff\">None</span>, <span style=\"color: #00af00; text-decoration-color: #00af00\">128</span>)            │       <span style=\"color: #00af00; text-decoration-color: #00af00\">100,480</span> │\n",
       "├─────────────────────────────────┼────────────────────────┼───────────────┤\n",
       "│ dense_3 (<span style=\"color: #0087ff; text-decoration-color: #0087ff\">Dense</span>)                 │ (<span style=\"color: #00d7ff; text-decoration-color: #00d7ff\">None</span>, <span style=\"color: #00af00; text-decoration-color: #00af00\">10</span>)             │         <span style=\"color: #00af00; text-decoration-color: #00af00\">1,290</span> │\n",
       "└─────────────────────────────────┴────────────────────────┴───────────────┘\n",
       "</pre>\n"
      ],
      "text/plain": [
       "┏━━━━━━━━━━━━━━━━━━━━━━━━━━━━━━━━━┳━━━━━━━━━━━━━━━━━━━━━━━━┳━━━━━━━━━━━━━━━┓\n",
       "┃\u001b[1m \u001b[0m\u001b[1mLayer (type)                   \u001b[0m\u001b[1m \u001b[0m┃\u001b[1m \u001b[0m\u001b[1mOutput Shape          \u001b[0m\u001b[1m \u001b[0m┃\u001b[1m \u001b[0m\u001b[1m      Param #\u001b[0m\u001b[1m \u001b[0m┃\n",
       "┡━━━━━━━━━━━━━━━━━━━━━━━━━━━━━━━━━╇━━━━━━━━━━━━━━━━━━━━━━━━╇━━━━━━━━━━━━━━━┩\n",
       "│ flatten_2 (\u001b[38;5;33mFlatten\u001b[0m)             │ (\u001b[38;5;45mNone\u001b[0m, \u001b[38;5;34m784\u001b[0m)            │             \u001b[38;5;34m0\u001b[0m │\n",
       "├─────────────────────────────────┼────────────────────────┼───────────────┤\n",
       "│ dense_2 (\u001b[38;5;33mDense\u001b[0m)                 │ (\u001b[38;5;45mNone\u001b[0m, \u001b[38;5;34m128\u001b[0m)            │       \u001b[38;5;34m100,480\u001b[0m │\n",
       "├─────────────────────────────────┼────────────────────────┼───────────────┤\n",
       "│ dense_3 (\u001b[38;5;33mDense\u001b[0m)                 │ (\u001b[38;5;45mNone\u001b[0m, \u001b[38;5;34m10\u001b[0m)             │         \u001b[38;5;34m1,290\u001b[0m │\n",
       "└─────────────────────────────────┴────────────────────────┴───────────────┘\n"
      ]
     },
     "metadata": {},
     "output_type": "display_data"
    },
    {
     "data": {
      "text/html": [
       "<pre style=\"white-space:pre;overflow-x:auto;line-height:normal;font-family:Menlo,'DejaVu Sans Mono',consolas,'Courier New',monospace\"><span style=\"font-weight: bold\"> Total params: </span><span style=\"color: #00af00; text-decoration-color: #00af00\">101,770</span> (397.54 KB)\n",
       "</pre>\n"
      ],
      "text/plain": [
       "\u001b[1m Total params: \u001b[0m\u001b[38;5;34m101,770\u001b[0m (397.54 KB)\n"
      ]
     },
     "metadata": {},
     "output_type": "display_data"
    },
    {
     "data": {
      "text/html": [
       "<pre style=\"white-space:pre;overflow-x:auto;line-height:normal;font-family:Menlo,'DejaVu Sans Mono',consolas,'Courier New',monospace\"><span style=\"font-weight: bold\"> Trainable params: </span><span style=\"color: #00af00; text-decoration-color: #00af00\">101,770</span> (397.54 KB)\n",
       "</pre>\n"
      ],
      "text/plain": [
       "\u001b[1m Trainable params: \u001b[0m\u001b[38;5;34m101,770\u001b[0m (397.54 KB)\n"
      ]
     },
     "metadata": {},
     "output_type": "display_data"
    },
    {
     "data": {
      "text/html": [
       "<pre style=\"white-space:pre;overflow-x:auto;line-height:normal;font-family:Menlo,'DejaVu Sans Mono',consolas,'Courier New',monospace\"><span style=\"font-weight: bold\"> Non-trainable params: </span><span style=\"color: #00af00; text-decoration-color: #00af00\">0</span> (0.00 B)\n",
       "</pre>\n"
      ],
      "text/plain": [
       "\u001b[1m Non-trainable params: \u001b[0m\u001b[38;5;34m0\u001b[0m (0.00 B)\n"
      ]
     },
     "metadata": {},
     "output_type": "display_data"
    }
   ],
   "source": [
    "#pass a list with all the diff layers \n",
    "#.dense means = fully connected layer \n",
    "model = keras.models.Sequential([\n",
    "    keras.layers.Flatten(input_shape = (28 ,28)),\n",
    "    keras.layers.Dense(128 , activation='relu'),\n",
    "    keras.layers.Dense(10)\n",
    "    #keras.layers.softamx as we need a probabilities for the 10 classes \n",
    "    #but it is preffered to be included in the loss phase\n",
    "])\n",
    "\n",
    "model.summary()"
   ]
  },
  {
   "cell_type": "code",
   "execution_count": 28,
   "id": "b7bad30b",
   "metadata": {},
   "outputs": [
    {
     "name": "stdout",
     "output_type": "stream",
     "text": [
      "Help on class Dense in module keras.src.layers.core.dense:\n",
      "\n",
      "class Dense(keras.src.layers.layer.Layer)\n",
      " |  Dense(units, activation=None, use_bias=True, kernel_initializer='glorot_uniform', bias_initializer='zeros', kernel_regularizer=None, bias_regularizer=None, activity_regularizer=None, kernel_constraint=None, bias_constraint=None, lora_rank=None, **kwargs)\n",
      " |\n",
      " |  Just your regular densely-connected NN layer.\n",
      " |\n",
      " |  `Dense` implements the operation:\n",
      " |  `output = activation(dot(input, kernel) + bias)`\n",
      " |  where `activation` is the element-wise activation function\n",
      " |  passed as the `activation` argument, `kernel` is a weights matrix\n",
      " |  created by the layer, and `bias` is a bias vector created by the layer\n",
      " |  (only applicable if `use_bias` is `True`).\n",
      " |\n",
      " |  Note: If the input to the layer has a rank greater than 2, `Dense`\n",
      " |  computes the dot product between the `inputs` and the `kernel` along the\n",
      " |  last axis of the `inputs` and axis 0 of the `kernel` (using `tf.tensordot`).\n",
      " |  For example, if input has dimensions `(batch_size, d0, d1)`, then we create\n",
      " |  a `kernel` with shape `(d1, units)`, and the `kernel` operates along axis 2\n",
      " |  of the `input`, on every sub-tensor of shape `(1, 1, d1)` (there are\n",
      " |  `batch_size * d0` such sub-tensors). The output in this case will have\n",
      " |  shape `(batch_size, d0, units)`.\n",
      " |\n",
      " |  Args:\n",
      " |      units: Positive integer, dimensionality of the output space.\n",
      " |      activation: Activation function to use.\n",
      " |          If you don't specify anything, no activation is applied\n",
      " |          (ie. \"linear\" activation: `a(x) = x`).\n",
      " |      use_bias: Boolean, whether the layer uses a bias vector.\n",
      " |      kernel_initializer: Initializer for the `kernel` weights matrix.\n",
      " |      bias_initializer: Initializer for the bias vector.\n",
      " |      kernel_regularizer: Regularizer function applied to\n",
      " |          the `kernel` weights matrix.\n",
      " |      bias_regularizer: Regularizer function applied to the bias vector.\n",
      " |      activity_regularizer: Regularizer function applied to\n",
      " |          the output of the layer (its \"activation\").\n",
      " |      kernel_constraint: Constraint function applied to\n",
      " |          the `kernel` weights matrix.\n",
      " |      bias_constraint: Constraint function applied to the bias vector.\n",
      " |      lora_rank: Optional integer. If set, the layer's forward pass\n",
      " |          will implement LoRA (Low-Rank Adaptation)\n",
      " |          with the provided rank. LoRA sets the layer's kernel\n",
      " |          to non-trainable and replaces it with a delta over the\n",
      " |          original kernel, obtained via multiplying two lower-rank\n",
      " |          trainable matrices. This can be useful to reduce the\n",
      " |          computation cost of fine-tuning large dense layers.\n",
      " |          You can also enable LoRA on an existing\n",
      " |          `Dense` layer by calling `layer.enable_lora(rank)`.\n",
      " |\n",
      " |  Input shape:\n",
      " |      N-D tensor with shape: `(batch_size, ..., input_dim)`.\n",
      " |      The most common situation would be\n",
      " |      a 2D input with shape `(batch_size, input_dim)`.\n",
      " |\n",
      " |  Output shape:\n",
      " |      N-D tensor with shape: `(batch_size, ..., units)`.\n",
      " |      For instance, for a 2D input with shape `(batch_size, input_dim)`,\n",
      " |      the output would have shape `(batch_size, units)`.\n",
      " |\n",
      " |  Method resolution order:\n",
      " |      Dense\n",
      " |      keras.src.layers.layer.Layer\n",
      " |      keras.src.backend.tensorflow.layer.TFLayer\n",
      " |      keras.src.backend.tensorflow.trackable.KerasAutoTrackable\n",
      " |      tensorflow.python.trackable.autotrackable.AutoTrackable\n",
      " |      tensorflow.python.trackable.base.Trackable\n",
      " |      keras.src.ops.operation.Operation\n",
      " |      keras.src.saving.keras_saveable.KerasSaveable\n",
      " |      builtins.object\n",
      " |\n",
      " |  Methods defined here:\n",
      " |\n",
      " |  __init__(self, units, activation=None, use_bias=True, kernel_initializer='glorot_uniform', bias_initializer='zeros', kernel_regularizer=None, bias_regularizer=None, activity_regularizer=None, kernel_constraint=None, bias_constraint=None, lora_rank=None, **kwargs)\n",
      " |      Initialize self.  See help(type(self)) for accurate signature.\n",
      " |\n",
      " |  build(self, input_shape)\n",
      " |\n",
      " |  call(self, inputs, training=None)\n",
      " |\n",
      " |  compute_output_shape(self, input_shape)\n",
      " |\n",
      " |  enable_lora(self, rank, a_initializer='he_uniform', b_initializer='zeros')\n",
      " |\n",
      " |  get_config(self)\n",
      " |      Returns the config of the object.\n",
      " |\n",
      " |      An object config is a Python dictionary (serializable)\n",
      " |      containing the information needed to re-instantiate it.\n",
      " |\n",
      " |  load_own_variables(self, store)\n",
      " |      Loads the state of the layer.\n",
      " |\n",
      " |      You can override this method to take full control of how the state of\n",
      " |      the layer is loaded upon calling `keras.models.load_model()`.\n",
      " |\n",
      " |      Args:\n",
      " |          store: Dict from which the state of the model will be loaded.\n",
      " |\n",
      " |  quantize(self, mode, type_check=True)\n",
      " |\n",
      " |  quantized_build(self, input_shape, mode)\n",
      " |\n",
      " |  save_own_variables(self, store)\n",
      " |      Saves the state of the layer.\n",
      " |\n",
      " |      You can override this method to take full control of how the state of\n",
      " |      the layer is saved upon calling `model.save()`.\n",
      " |\n",
      " |      Args:\n",
      " |          store: Dict where the state of the model will be saved.\n",
      " |\n",
      " |  ----------------------------------------------------------------------\n",
      " |  Readonly properties defined here:\n",
      " |\n",
      " |  kernel\n",
      " |\n",
      " |  ----------------------------------------------------------------------\n",
      " |  Methods inherited from keras.src.layers.layer.Layer:\n",
      " |\n",
      " |  __call__(self, *args, **kwargs)\n",
      " |      Call self as a function.\n",
      " |\n",
      " |  __delattr__(self, name)\n",
      " |      Implement delattr(self, name).\n",
      " |\n",
      " |  __repr__(self)\n",
      " |      Return repr(self).\n",
      " |\n",
      " |  __setattr__(self, name, value)\n",
      " |      Support self.foo = trackable syntax.\n",
      " |\n",
      " |  __str__(self)\n",
      " |      Return str(self).\n",
      " |\n",
      " |  add_loss(self, loss)\n",
      " |      Can be called inside of the `call()` method to add a scalar loss.\n",
      " |\n",
      " |      Example:\n",
      " |\n",
      " |      ```python\n",
      " |      class MyLayer(Layer):\n",
      " |          ...\n",
      " |          def call(self, x):\n",
      " |              self.add_loss(ops.sum(x))\n",
      " |              return x\n",
      " |      ```\n",
      " |\n",
      " |  add_metric(self, *args, **kwargs)\n",
      " |\n",
      " |  add_variable(self, shape, initializer, dtype=None, trainable=True, autocast=True, regularizer=None, constraint=None, name=None)\n",
      " |      Add a weight variable to the layer.\n",
      " |\n",
      " |      Alias of `add_weight()`.\n",
      " |\n",
      " |  add_weight(self, shape=None, initializer=None, dtype=None, trainable=True, autocast=True, regularizer=None, constraint=None, aggregation='mean', name=None)\n",
      " |      Add a weight variable to the layer.\n",
      " |\n",
      " |      Args:\n",
      " |          shape: Shape tuple for the variable. Must be fully-defined\n",
      " |              (no `None` entries). Defaults to `()` (scalar) if unspecified.\n",
      " |          initializer: Initializer object to use to populate the initial\n",
      " |              variable value, or string name of a built-in initializer\n",
      " |              (e.g. `\"random_normal\"`). If unspecified, defaults to\n",
      " |              `\"glorot_uniform\"` for floating-point variables and to `\"zeros\"`\n",
      " |              for all other types (e.g. int, bool).\n",
      " |          dtype: Dtype of the variable to create, e.g. `\"float32\"`. If\n",
      " |              unspecified, defaults to the layer's variable dtype\n",
      " |              (which itself defaults to `\"float32\"` if unspecified).\n",
      " |          trainable: Boolean, whether the variable should be trainable via\n",
      " |              backprop or whether its updates are managed manually. Defaults\n",
      " |              to `True`.\n",
      " |          autocast: Boolean, whether to autocast layers variables when\n",
      " |              accessing them. Defaults to `True`.\n",
      " |          regularizer: Regularizer object to call to apply penalty on the\n",
      " |              weight. These penalties are summed into the loss function\n",
      " |              during optimization. Defaults to `None`.\n",
      " |          constraint: Contrainst object to call on the variable after any\n",
      " |              optimizer update, or string name of a built-in constraint.\n",
      " |              Defaults to `None`.\n",
      " |          aggregation: String, one of `'mean'`, `'sum'`,\n",
      " |              `'only_first_replica'`. Annotates the variable with the type\n",
      " |              of multi-replica aggregation to be used for this variable\n",
      " |              when writing custom data parallel training loops.\n",
      " |          name: String name of the variable. Useful for debugging purposes.\n",
      " |\n",
      " |  build_from_config(self, config)\n",
      " |      Builds the layer's states with the supplied config dict.\n",
      " |\n",
      " |      By default, this method calls the `build(config[\"input_shape\"])` method,\n",
      " |      which creates weights based on the layer's input shape in the supplied\n",
      " |      config. If your config contains other information needed to load the\n",
      " |      layer's state, you should override this method.\n",
      " |\n",
      " |      Args:\n",
      " |          config: Dict containing the input shape associated with this layer.\n",
      " |\n",
      " |  compute_mask(self, inputs, previous_mask)\n",
      " |\n",
      " |  compute_output_spec(self, *args, **kwargs)\n",
      " |\n",
      " |  count_params(self)\n",
      " |      Count the total number of scalars composing the weights.\n",
      " |\n",
      " |      Returns:\n",
      " |          An integer count.\n",
      " |\n",
      " |  get_build_config(self)\n",
      " |      Returns a dictionary with the layer's input shape.\n",
      " |\n",
      " |      This method returns a config dict that can be used by\n",
      " |      `build_from_config(config)` to create all states (e.g. Variables and\n",
      " |      Lookup tables) needed by the layer.\n",
      " |\n",
      " |      By default, the config only contains the input shape that the layer\n",
      " |      was built with. If you're writing a custom layer that creates state in\n",
      " |      an unusual way, you should override this method to make sure this state\n",
      " |      is already created when Keras attempts to load its value upon model\n",
      " |      loading.\n",
      " |\n",
      " |      Returns:\n",
      " |          A dict containing the input shape associated with the layer.\n",
      " |\n",
      " |  get_weights(self)\n",
      " |      Return the values of `layer.weights` as a list of NumPy arrays.\n",
      " |\n",
      " |  quantized_call(self, *args, **kwargs)\n",
      " |\n",
      " |  set_weights(self, weights)\n",
      " |      Sets the values of `layer.weights` from a list of NumPy arrays.\n",
      " |\n",
      " |  stateless_call(self, trainable_variables, non_trainable_variables, *args, return_losses=False, **kwargs)\n",
      " |      Call the layer without any side effects.\n",
      " |\n",
      " |      Args:\n",
      " |          trainable_variables: List of trainable variables of the model.\n",
      " |          non_trainable_variables: List of non-trainable variables of the\n",
      " |              model.\n",
      " |          *args: Positional arguments to be passed to `call()`.\n",
      " |          return_losses: If `True`, `stateless_call()` will return the list of\n",
      " |              losses created during `call()` as part of its return values.\n",
      " |          **kwargs: Keyword arguments to be passed to `call()`.\n",
      " |\n",
      " |      Returns:\n",
      " |          A tuple. By default, returns `(outputs, non_trainable_variables)`.\n",
      " |              If `return_losses = True`, then returns\n",
      " |              `(outputs, non_trainable_variables, losses)`.\n",
      " |\n",
      " |      Note: `non_trainable_variables` include not only non-trainable weights\n",
      " |      such as `BatchNormalization` statistics, but also RNG seed state\n",
      " |      (if there are any random operations part of the layer, such as dropout),\n",
      " |      and `Metric` state (if there are any metrics attached to the layer).\n",
      " |      These are all elements of state of the layer.\n",
      " |\n",
      " |      Example:\n",
      " |\n",
      " |      ```python\n",
      " |      model = ...\n",
      " |      data = ...\n",
      " |      trainable_variables = model.trainable_variables\n",
      " |      non_trainable_variables = model.non_trainable_variables\n",
      " |      # Call the model with zero side effects\n",
      " |      outputs, non_trainable_variables = model.stateless_call(\n",
      " |          trainable_variables,\n",
      " |          non_trainable_variables,\n",
      " |          data,\n",
      " |      )\n",
      " |      # Attach the updated state to the model\n",
      " |      # (until you do this, the model is still in its pre-call state).\n",
      " |      for ref_var, value in zip(\n",
      " |          model.non_trainable_variables, non_trainable_variables\n",
      " |      ):\n",
      " |          ref_var.assign(value)\n",
      " |      ```\n",
      " |\n",
      " |  ----------------------------------------------------------------------\n",
      " |  Static methods inherited from keras.src.layers.layer.Layer:\n",
      " |\n",
      " |  __new__(cls, *args, **kwargs)\n",
      " |      Create and return a new object.  See help(type) for accurate signature.\n",
      " |\n",
      " |  ----------------------------------------------------------------------\n",
      " |  Readonly properties inherited from keras.src.layers.layer.Layer:\n",
      " |\n",
      " |  compute_dtype\n",
      " |      The dtype of the computations performed by the layer.\n",
      " |\n",
      " |  dtype\n",
      " |      Alias of `layer.variable_dtype`.\n",
      " |\n",
      " |  input_dtype\n",
      " |      The dtype layer inputs should be converted to.\n",
      " |\n",
      " |  losses\n",
      " |      List of scalar losses from `add_loss`, regularizers and sublayers.\n",
      " |\n",
      " |  metrics\n",
      " |      List of all metrics.\n",
      " |\n",
      " |  metrics_variables\n",
      " |      List of all metric variables.\n",
      " |\n",
      " |  non_trainable_variables\n",
      " |      List of all non-trainable layer state.\n",
      " |\n",
      " |      This extends `layer.non_trainable_weights` to include all state used by\n",
      " |      the layer including state for metrics and `SeedGenerator`s.\n",
      " |\n",
      " |  non_trainable_weights\n",
      " |      List of all non-trainable weight variables of the layer.\n",
      " |\n",
      " |      These are the weights that should not be updated by the optimizer during\n",
      " |      training. Unlike, `layer.non_trainable_variables` this excludes metric\n",
      " |      state and random seeds.\n",
      " |\n",
      " |  path\n",
      " |      The path of the layer.\n",
      " |\n",
      " |      If the layer has not been built yet, it will be `None`.\n",
      " |\n",
      " |  quantization_mode\n",
      " |      The quantization mode of this layer, `None` if not quantized.\n",
      " |\n",
      " |  trainable_variables\n",
      " |      List of all trainable layer state.\n",
      " |\n",
      " |      This is equivalent to `layer.trainable_weights`.\n",
      " |\n",
      " |  trainable_weights\n",
      " |      List of all trainable weight variables of the layer.\n",
      " |\n",
      " |      These are the weights that get updated by the optimizer during training.\n",
      " |\n",
      " |  variable_dtype\n",
      " |      The dtype of the state (weights) of the layer.\n",
      " |\n",
      " |  variables\n",
      " |      List of all layer state, including random seeds.\n",
      " |\n",
      " |      This extends `layer.weights` to include all state used by the layer\n",
      " |      including `SeedGenerator`s.\n",
      " |\n",
      " |      Note that metrics variables are not included here, use\n",
      " |      `metrics_variables` to visit all the metric variables.\n",
      " |\n",
      " |  weights\n",
      " |      List of all weight variables of the layer.\n",
      " |\n",
      " |      Unlike, `layer.variables` this excludes metric state and random seeds.\n",
      " |\n",
      " |  ----------------------------------------------------------------------\n",
      " |  Data descriptors inherited from keras.src.layers.layer.Layer:\n",
      " |\n",
      " |  dtype_policy\n",
      " |\n",
      " |  input_spec\n",
      " |\n",
      " |  supports_masking\n",
      " |      Whether this layer supports computing a mask using `compute_mask`.\n",
      " |\n",
      " |  trainable\n",
      " |      Settable boolean, whether this layer should be trainable or not.\n",
      " |\n",
      " |  ----------------------------------------------------------------------\n",
      " |  Data descriptors inherited from tensorflow.python.trackable.base.Trackable:\n",
      " |\n",
      " |  __dict__\n",
      " |      dictionary for instance variables\n",
      " |\n",
      " |  __weakref__\n",
      " |      list of weak references to the object\n",
      " |\n",
      " |  ----------------------------------------------------------------------\n",
      " |  Methods inherited from keras.src.ops.operation.Operation:\n",
      " |\n",
      " |  symbolic_call(self, *args, **kwargs)\n",
      " |\n",
      " |  ----------------------------------------------------------------------\n",
      " |  Class methods inherited from keras.src.ops.operation.Operation:\n",
      " |\n",
      " |  from_config(config) from builtins.type\n",
      " |      Creates an operation from its config.\n",
      " |\n",
      " |      This method is the reverse of `get_config`, capable of instantiating the\n",
      " |      same operation from the config dictionary.\n",
      " |\n",
      " |      Note: If you override this method, you might receive a serialized dtype\n",
      " |      config, which is a `dict`. You can deserialize it as follows:\n",
      " |\n",
      " |      ```python\n",
      " |      if \"dtype\" in config and isinstance(config[\"dtype\"], dict):\n",
      " |          policy = dtype_policies.deserialize(config[\"dtype\"])\n",
      " |      ```\n",
      " |\n",
      " |      Args:\n",
      " |          config: A Python dictionary, typically the output of `get_config`.\n",
      " |\n",
      " |      Returns:\n",
      " |          An operation instance.\n",
      " |\n",
      " |  ----------------------------------------------------------------------\n",
      " |  Readonly properties inherited from keras.src.ops.operation.Operation:\n",
      " |\n",
      " |  input\n",
      " |      Retrieves the input tensor(s) of a symbolic operation.\n",
      " |\n",
      " |      Only returns the tensor(s) corresponding to the *first time*\n",
      " |      the operation was called.\n",
      " |\n",
      " |      Returns:\n",
      " |          Input tensor or list of input tensors.\n",
      " |\n",
      " |  output\n",
      " |      Retrieves the output tensor(s) of a layer.\n",
      " |\n",
      " |      Only returns the tensor(s) corresponding to the *first time*\n",
      " |      the operation was called.\n",
      " |\n",
      " |      Returns:\n",
      " |          Output tensor or list of output tensors.\n",
      " |\n",
      " |  ----------------------------------------------------------------------\n",
      " |  Methods inherited from keras.src.saving.keras_saveable.KerasSaveable:\n",
      " |\n",
      " |  __reduce__(self)\n",
      " |      __reduce__ is used to customize the behavior of `pickle.pickle()`.\n",
      " |\n",
      " |      The method returns a tuple of two elements: a function, and a list of\n",
      " |      arguments to pass to that function.  In this case we just leverage the\n",
      " |      keras saving library.\n",
      "\n"
     ]
    }
   ],
   "source": [
    "help(keras.layers.Dense)"
   ]
  },
  {
   "cell_type": "markdown",
   "id": "6afa5e7e",
   "metadata": {},
   "source": [
    "**Another way of sequential model**"
   ]
  },
  {
   "cell_type": "code",
   "execution_count": 33,
   "id": "19a3dbc8",
   "metadata": {},
   "outputs": [
    {
     "name": "stderr",
     "output_type": "stream",
     "text": [
      "c:\\Users\\moham\\AppData\\Local\\Programs\\Python\\Python312\\Lib\\site-packages\\keras\\src\\layers\\reshaping\\flatten.py:37: UserWarning: Do not pass an `input_shape`/`input_dim` argument to a layer. When using Sequential models, prefer using an `Input(shape)` object as the first layer in the model instead.\n",
      "  super().__init__(**kwargs)\n"
     ]
    }
   ],
   "source": [
    "#the adv is it enables you to make a model.summary() after each layer \n",
    "model2 = keras.Sequential()\n",
    "model2.add(keras.layers.Flatten(input_shape = (28 ,28)))\n",
    "#model2.summary()\n",
    "model2.add(keras.layers.Dense(128 , activation='relu'))\n",
    "#model2.summary()\n",
    "model2.add(keras.layers.Dense(10))\n",
    "#model2.summary()"
   ]
  },
  {
   "cell_type": "markdown",
   "id": "46a1b073",
   "metadata": {},
   "source": [
    "**Loss and optemizer**"
   ]
  },
  {
   "cell_type": "code",
   "execution_count": 36,
   "id": "eaaa97e8",
   "metadata": {},
   "outputs": [],
   "source": [
    "# if the y = 0 or 1 or 2 or 3 lables = indecies -> sparsecategoricalcrossentropy()\n",
    "#if y = oneHot -> y = [1 for the class and zeros for the rest]\n",
    "# ex y = [1 ,0 , 0, 0 ,0] so -> CategoricalCrossEntropy()only\n",
    "loss = keras.losses.SparseCategoricalCrossentropy(from_logits=True)\n",
    "#from logites = True bec we didn't put the softmax act function in the output layer yet\n",
    "optimizerr = keras.optimizers.Adam(learning_rate= 0.01)\n",
    "metric = ['accuracy']\n",
    "model.compile(loss= loss , optimizer= optimizerr , metrics = metric)\n",
    "\n",
    "#what is the diff between :\n",
    "#1-.SparseCategoricalCrossentropy() used in the validation while training and before testing\n",
    "#2-.sparse_categorical_crossentropy()used in the evaluation after training and while testing"
   ]
  },
  {
   "cell_type": "markdown",
   "id": "db65fb43",
   "metadata": {},
   "source": [
    "**Training**"
   ]
  },
  {
   "cell_type": "code",
   "execution_count": 39,
   "id": "bc993584",
   "metadata": {},
   "outputs": [
    {
     "name": "stdout",
     "output_type": "stream",
     "text": [
      "Epoch 1/5\n",
      "938/938 - 3s - 3ms/step - accuracy: 0.9330 - loss: 0.2207\n",
      "Epoch 2/5\n",
      "938/938 - 2s - 2ms/step - accuracy: 0.9617 - loss: 0.1304\n",
      "Epoch 3/5\n",
      "938/938 - 2s - 2ms/step - accuracy: 0.9688 - loss: 0.1092\n",
      "Epoch 4/5\n",
      "938/938 - 2s - 2ms/step - accuracy: 0.9707 - loss: 0.1036\n",
      "Epoch 5/5\n",
      "938/938 - 2s - 2ms/step - accuracy: 0.9748 - loss: 0.0910\n"
     ]
    },
    {
     "data": {
      "text/plain": [
       "<keras.src.callbacks.history.History at 0x18b758477a0>"
      ]
     },
     "execution_count": 39,
     "metadata": {},
     "output_type": "execute_result"
    }
   ],
   "source": [
    "#to get the best training divide the batches and detect the number of epoches \n",
    "batches = 64 \n",
    "no_epoches = 5\n",
    "model.fit(x_train , y_train , batch_size= batches , epochs=no_epoches , verbose=2, shuffle=True)"
   ]
  },
  {
   "cell_type": "markdown",
   "id": "0032ec8c",
   "metadata": {},
   "source": [
    "**Evaluate the model**"
   ]
  },
  {
   "cell_type": "code",
   "execution_count": 41,
   "id": "c349e260",
   "metadata": {},
   "outputs": [
    {
     "name": "stdout",
     "output_type": "stream",
     "text": [
      "157/157 - 0s - 1ms/step - accuracy: 0.9715 - loss: 0.1293\n"
     ]
    },
    {
     "data": {
      "text/plain": [
       "[0.12930181622505188, 0.9714999794960022]"
      ]
     },
     "execution_count": 41,
     "metadata": {},
     "output_type": "execute_result"
    }
   ],
   "source": [
    "model.evaluate(x_test , y_test , batch_size=batches , verbose=2)"
   ]
  },
  {
   "cell_type": "markdown",
   "id": "9aecd7e6",
   "metadata": {},
   "source": [
    "Remember we didn't make the softmax in the layers instead w put it while training and now we want to make **Predictions** so we need it"
   ]
  },
  {
   "cell_type": "code",
   "execution_count": 42,
   "id": "af4be6b2",
   "metadata": {},
   "outputs": [
    {
     "name": "stdout",
     "output_type": "stream",
     "text": [
      "tf.Tensor(\n",
      "[1.3053491e-18 1.2329013e-14 2.1332693e-12 2.3264775e-10 3.1730135e-16\n",
      " 5.7600934e-15 2.6237464e-31 1.0000000e+00 1.3117997e-16 2.4126529e-13], shape=(10,), dtype=float32)\n",
      "7\n"
     ]
    }
   ],
   "source": [
    "probability_model = keras.models.Sequential([\n",
    "   model , #now it has all the layers in the original(first) model\n",
    "   keras.layers.Softmax()\n",
    "])\n",
    "\n",
    "\n",
    "predictions = probability_model(x_test)\n",
    "pred0 = predictions[0]\n",
    "print (pred0)\n",
    "label0 = np.argmax(pred0)\n",
    "print (label0)"
   ]
  }
 ],
 "metadata": {
  "kernelspec": {
   "display_name": "Python 3",
   "language": "python",
   "name": "python3"
  },
  "language_info": {
   "codemirror_mode": {
    "name": "ipython",
    "version": 3
   },
   "file_extension": ".py",
   "mimetype": "text/x-python",
   "name": "python",
   "nbconvert_exporter": "python",
   "pygments_lexer": "ipython3",
   "version": "3.12.2"
  }
 },
 "nbformat": 4,
 "nbformat_minor": 5
}
